{
 "cells": [
  {
   "cell_type": "code",
   "execution_count": 1,
   "id": "enabling-level",
   "metadata": {},
   "outputs": [
    {
     "name": "stdout",
     "output_type": "stream",
     "text": [
      "Company Name                           (S A G) \\nSA'AD AL-TAIE GROUP\\n\n",
      "Website                                         https://www.sag.group/\n",
      "Address              Karada St. , Baghdad , Iraq\\nUmm Qasr Por t, B...\n",
      "Type of Company                                      Freight Forwarder\n",
      "Mail                             imi.eng@sag.group  |contact@sag.group\n",
      "Whatsapp Number                                          9647901758936\n",
      " Fax                                                               NaN\n",
      "Phone Number         \\n+964 (0) 783 508 3192/+964 (0) 780 196 4205/...\n",
      "Linkedin Profile     https://www.linkedin.com/public-profile/in/saa...\n",
      "Presence in India                                                  NaN\n",
      "Name: 0, dtype: object\n",
      "['+']\n",
      "cpny [\"(S A G) \\nSA'AD AL-TAIE GROUP\\n\"]\n"
     ]
    }
   ],
   "source": [
    "import pandas as pd\n",
    "data=pd.read_excel('company_details_exel.xls')\n",
    "# print(data)\n",
    "company_name=data.iloc[0]\n",
    "# company_name=data.loc['Company Name'][0]\n",
    "print(company_name)\n",
    "\n",
    "# print(company_name)\n",
    "\n",
    "length=len(data)\n",
    "for i in range(length):\n",
    "    phone=data.iloc[i]['Phone Number'][1]\n",
    "    if pd.isna(phone):\n",
    "        pass\n",
    "    else: \n",
    "        ph=phone.split('/')\n",
    "        print(ph)\n",
    "#              for j in phone:\n",
    "#             if phone[j]=='|':\n",
    "#                 print(\"present\")\n",
    "            \n",
    "#         text=pd.unique(phone.split('/'))\n",
    "#         print(pd.unique(phone.split('/')))\n",
    "#         print(\"ph\",text)\n",
    "#         test1=pd.unique(text)\n",
    "#         print(test1)\n",
    "#     email=data.iloc[i]['Mail']\n",
    "#     text1=pd.unique(email.split('/'))\n",
    "#     print(\"mail\",text1)\n",
    "#     website=data.iloc[i]['Website']\n",
    "#     text2=pd.unique(website.split('|'))\n",
    "#     print(\"web\",text2)\n",
    "#     address=data.iloc[i]['Address']\n",
    "#     text3=pd.unique(address.split('/'))\n",
    "#     print(\"add\",text3)\n",
    "#     linkedin=data.iloc[i]['Linkedin Profile']\n",
    "#     if pd.isna(linkedin):\n",
    "#         pass\n",
    "#     else:\n",
    "#         text4=pd.unique(linkedin)\n",
    "#         print(\"linked\",text4)\n",
    "#     India_presence=data.iloc[i]['Presence in India']\n",
    "#     if pd.isna(India_presence):\n",
    "#         pass\n",
    "#     else:\n",
    "#         text5=pd.unique(India_presence)\n",
    "#         print(\"presence\",text5)\n",
    "#     fax=data.iloc[i][' Fax']\n",
    "#     if pd.isna(fax):\n",
    "#         pass\n",
    "#     else:\n",
    "#         text6=pd.unique(fax)\n",
    "#         print(\"fax\",text6)\n",
    "#     whatsapNumber=data.iloc[i]['Whatsapp Number']\n",
    "#     print(whatsapNumber)\n",
    "#     if pd.isna(whatsapNumber):\n",
    "#         pass\n",
    "#     else:\n",
    "# #         print(whatsapNumber)\n",
    "#         text7=pd.unique(whatsapNumber.split('/'))\n",
    "#         print(\"whtsap\",text7)\n",
    "#     TypeOfCompany=data.iloc[i]['Type of Company']\n",
    "#     print(\"india\")\n",
    "#     text8=pd.unique(TypeOfCompany)\n",
    "#     print(\"type\",text8)    \n",
    "    Company_name=data.iloc[i]['Company Name']\n",
    "    text9=pd.unique(Company_name)\n",
    "    print(\"cpny\",text9)\n",
    "    break\n"
   ]
  },
  {
   "cell_type": "code",
   "execution_count": 18,
   "id": "unsigned-pearl",
   "metadata": {},
   "outputs": [
    {
     "name": "stdout",
     "output_type": "stream",
     "text": [
      "\n",
      "+964 (0) 783 508 3192/+964 (0) 780 196 4205/+964 (0) 783 508 3192\n",
      "['\\n+964 (0) 783 508 3192', '+964 (0) 780 196 4205', '+964 (0) 783 508 3192']\n",
      "['+964 (0) 783 508 3192', '+964 (0) 780 196 4205', '+964 (0) 783 508 3192']\n",
      "['+964 (0) 783 508 3192' '+964 (0) 780 196 4205']\n"
     ]
    },
    {
     "ename": "NameError",
     "evalue": "name 'Email' is not defined",
     "output_type": "error",
     "traceback": [
      "\u001b[1;31m---------------------------------------------------------------------------\u001b[0m",
      "\u001b[1;31mNameError\u001b[0m                                 Traceback (most recent call last)",
      "\u001b[1;32m<ipython-input-18-eac4d5102aaa>\u001b[0m in \u001b[0;36m<module>\u001b[1;34m\u001b[0m\n\u001b[0;32m     22\u001b[0m \u001b[1;33m\u001b[0m\u001b[0m\n\u001b[0;32m     23\u001b[0m \u001b[0mEmail_address\u001b[0m \u001b[1;33m=\u001b[0m \u001b[0mdata\u001b[0m\u001b[1;33m.\u001b[0m\u001b[0miloc\u001b[0m\u001b[1;33m[\u001b[0m\u001b[1;36m8\u001b[0m\u001b[1;33m]\u001b[0m\u001b[1;33m[\u001b[0m\u001b[1;34m'Mail'\u001b[0m\u001b[1;33m]\u001b[0m\u001b[1;33m\u001b[0m\u001b[1;33m\u001b[0m\u001b[0m\n\u001b[1;32m---> 24\u001b[1;33m \u001b[1;32mif\u001b[0m \u001b[0mEmail\u001b[0m\u001b[1;33m.\u001b[0m\u001b[0mselect\u001b[0m\u001b[1;33m(\u001b[0m\u001b[1;33m)\u001b[0m\u001b[1;33m.\u001b[0m\u001b[0mwhere\u001b[0m\u001b[1;33m(\u001b[0m\u001b[0mEmail\u001b[0m\u001b[1;33m.\u001b[0m\u001b[0mEmail_address\u001b[0m\u001b[1;33m==\u001b[0m\u001b[0mEmail_address\u001b[0m\u001b[1;33m)\u001b[0m\u001b[1;33m.\u001b[0m\u001b[0mexists\u001b[0m\u001b[1;33m(\u001b[0m\u001b[1;33m)\u001b[0m \u001b[1;33m|\u001b[0m \u001b[0mpd\u001b[0m\u001b[1;33m.\u001b[0m\u001b[0misna\u001b[0m\u001b[1;33m(\u001b[0m\u001b[0mEmail_address\u001b[0m\u001b[1;33m)\u001b[0m\u001b[1;33m:\u001b[0m\u001b[1;33m\u001b[0m\u001b[1;33m\u001b[0m\u001b[0m\n\u001b[0m\u001b[0;32m     25\u001b[0m     \u001b[1;32mpass\u001b[0m\u001b[1;33m\u001b[0m\u001b[1;33m\u001b[0m\u001b[0m\n\u001b[0;32m     26\u001b[0m \u001b[1;32melif\u001b[0m  \u001b[0mEmail_address\u001b[0m\u001b[1;33m.\u001b[0m\u001b[0mfind\u001b[0m\u001b[1;33m(\u001b[0m\u001b[1;34m'|'\u001b[0m\u001b[1;33m)\u001b[0m \u001b[1;33m==\u001b[0m \u001b[1;33m-\u001b[0m\u001b[1;36m1\u001b[0m\u001b[1;33m:\u001b[0m\u001b[1;33m\u001b[0m\u001b[1;33m\u001b[0m\u001b[0m\n",
      "\u001b[1;31mNameError\u001b[0m: name 'Email' is not defined"
     ]
    }
   ],
   "source": [
    "data=pd.read_excel('company_details_exel.xls')\n",
    "# company_name=data.iloc[10]\n",
    "\n",
    "# print(company_name)\n",
    "# phone=str(data.iloc[0]['Phone Number'])\n",
    "# print((phone))\n",
    "# import pandas as pd\n",
    "# if phone.find('/') == -1:\n",
    "    \n",
    "#     print(\"no\")\n",
    "# #     phone = Phone.create(Phone_number=Phone_num, Phone_owner=company)\n",
    "# else:\n",
    "#     ph_list=phone.split('/')\n",
    "#     print(ph_list)\n",
    "#     res=[]\n",
    "#     for i in ph_list:\n",
    "#         res.append(i.replace('\\n',''))\n",
    "#     print(res)\n",
    "#     uniq_list=pd.unique(res)\n",
    "#     print(uniq_list)\n",
    "    \n",
    "    \n",
    "Web_address=data.iloc[i]['Website']\n",
    "if Website.select().where(Website.Web_address==Web_address).exists() | pd.isna(Web_address):\n",
    "    pass\n",
    "elif  Web_address.find('|') == -1:\n",
    "    pass\n",
    "#     web = Website.create(Web_address=Web_address, Web_owner=company)\n",
    "else:\n",
    "    web_list=Web_address.split('|')\n",
    "    print(web_list)\n",
    "    uniq_list1=pd.unique(web_list)\n",
    "    print(uniq_list1)\n",
    "    for k in range(len(uniq_list1)):\n",
    "#         web = Website.create(Web_address=uniq_list1[k], Web_owner=company)\n",
    "        pass\n",
    "\n",
    "\n",
    "    \n",
    "    \n",
    "#         ph=ph_list[i]\n",
    "#         ph.replace('\\n',' ')\n",
    "#         print(ph)\n",
    "        \n",
    "        \n",
    "#         # initialize list  \n",
    "# test_list = ['gf\\ng', 'i\\ns', 'b\\nest', 'fo\\nr', 'geeks\\n'] \n",
    "  \n",
    "# # printing original list  \n",
    "# print(\"The original list : \" + str(test_list)) \n",
    "  \n",
    "# # Removing newline character from string \n",
    "# # using loop \n",
    "# res = [] \n",
    "# for sub in test_list: \n",
    "#     res.append(sub.replace(\"\\n\", \"\")) \n",
    "          \n",
    "# # printing result \n",
    "# print(\"List after newline character removal : \" + str(res)) \n",
    "        \n",
    "        \n",
    "        \n",
    "        \n",
    "        \n",
    "        \n",
    "        \n",
    "        \n",
    "#     ph_list1=pd1.unique(ph_list)\n",
    "#     ph_list=pd.unique(phone.split('/'))\n",
    "#     print(ph_list1)\n",
    "#     print(\"yes\")\n",
    "#     print(len(ph_list1))\n",
    "#     print(ph_list1[1])\n",
    "# # ph=phone.split('/')\n",
    "# print(ph)\n",
    "# ph1=pd.unique(ph)\n",
    "# print(ph1)\n",
    "\n",
    "\n",
    "# if Phone.select().where(Phone.Phone_number==Phone_num).exists() | pd.isna(Phone_num):\n",
    "#     pass\n",
    "# elif  Phone_num.find('/') == -1:\n",
    "#     phone = Phone.create(Phone_number=Phone_num, Phone_owner=company)\n",
    "# else:\n",
    "#     ph_list=pd.unique(Phone_num.split('/'))\n",
    "#     print(ph_list)\n",
    "#     phone = Phone.create(Phone_number=Phone_num, Phone_owner=company)\n"
   ]
  },
  {
   "cell_type": "code",
   "execution_count": 9,
   "id": "front-booking",
   "metadata": {},
   "outputs": [
    {
     "data": {
      "text/plain": [
       "'https://www.sag.group/'"
      ]
     },
     "execution_count": 9,
     "metadata": {},
     "output_type": "execute_result"
    }
   ],
   "source": [
    "company_name"
   ]
  },
  {
   "cell_type": "code",
   "execution_count": 11,
   "id": "chinese-genealogy",
   "metadata": {},
   "outputs": [
    {
     "name": "stdout",
     "output_type": "stream",
     "text": [
      "[123123 312412    111]\n",
      "[123123 312412    111]\n",
      "123123\n"
     ]
    }
   ],
   "source": [
    "import pandas as pd\n",
    "a=[123123,312412,111,111]\n",
    "print(pd.unique(a))\n",
    "p=pd.unique(a)\n",
    "print(p)\n",
    "print(p[0])"
   ]
  },
  {
   "cell_type": "code",
   "execution_count": null,
   "id": "promising-drink",
   "metadata": {},
   "outputs": [],
   "source": []
  }
 ],
 "metadata": {
  "kernelspec": {
   "display_name": "Python 3",
   "language": "python",
   "name": "python3"
  },
  "language_info": {
   "codemirror_mode": {
    "name": "ipython",
    "version": 3
   },
   "file_extension": ".py",
   "mimetype": "text/x-python",
   "name": "python",
   "nbconvert_exporter": "python",
   "pygments_lexer": "ipython3",
   "version": "3.8.5"
  }
 },
 "nbformat": 4,
 "nbformat_minor": 5
}
